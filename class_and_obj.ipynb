{
  "nbformat": 4,
  "nbformat_minor": 0,
  "metadata": {
    "colab": {
      "provenance": [],
      "authorship_tag": "ABX9TyNZhK8JlwdB4dNBAk6RHfxj",
      "include_colab_link": true
    },
    "kernelspec": {
      "name": "python3",
      "display_name": "Python 3"
    },
    "language_info": {
      "name": "python"
    }
  },
  "cells": [
    {
      "cell_type": "markdown",
      "metadata": {
        "id": "view-in-github",
        "colab_type": "text"
      },
      "source": [
        "<a href=\"https://colab.research.google.com/github/PUVHAM/testrepo/blob/main/class_and_obj.ipynb\" target=\"_parent\"><img src=\"https://colab.research.google.com/assets/colab-badge.svg\" alt=\"Open In Colab\"/></a>"
      ]
    },
    {
      "cell_type": "code",
      "execution_count": null,
      "metadata": {
        "colab": {
          "base_uri": "https://localhost:8080/"
        },
        "id": "GyNrORWGUt0y",
        "outputId": "6e258ec2-c2d4-4a92-c7c5-b3b849b00802"
      },
      "outputs": [
        {
          "output_type": "stream",
          "name": "stdout",
          "text": [
            "tensor([0., 0., nan])\n",
            "tensor([0., 0., 1.])\n"
          ]
        }
      ],
      "source": [
        "import torch\n",
        "import torch.nn as nn\n",
        "\n",
        "class Softmax(nn.Module):\n",
        "    def __init__(self):\n",
        "        super().__init__()\n",
        "\n",
        "    def forward(self, x):\n",
        "        exp_x = torch.exp(x)\n",
        "        sum_exp_x = torch.sum(exp_x)\n",
        "        return exp_x / sum_exp_x\n",
        "\n",
        "class SoftmaxStable(nn.Module):\n",
        "    def __init__(self):\n",
        "        super().__init__()\n",
        "\n",
        "    def forward(self, x):\n",
        "        c = max(x)\n",
        "        exp_x = torch.exp(x - c)\n",
        "        sum_exp_x = torch.sum(exp_x)\n",
        "        return exp_x / sum_exp_x\n",
        "\n",
        "#Testcases\n",
        "data = torch.Tensor([1, 2, 300000000])\n",
        "softmax = Softmax()\n",
        "output = softmax(data)\n",
        "print(output)\n",
        "\n",
        "softmax_stable = SoftmaxStable()\n",
        "output = softmax_stable(data)\n",
        "print(output)"
      ]
    },
    {
      "cell_type": "code",
      "source": [
        "\n",
        "# (a)\n",
        "class Student:\n",
        "    def __init__(self, name, yob, grade):\n",
        "        self.name = name\n",
        "        self.yob = yob\n",
        "        self.grade = grade\n",
        "\n",
        "    def describe(self):\n",
        "        print(f\"Student - Name: {self.name} - YoB: {self.yob} - Grade: {self.grade}\")\n",
        "\n",
        "class Doctor:\n",
        "    def __init__(self, name, yob, specialist):\n",
        "        self.name = name\n",
        "        self.yob = yob\n",
        "        self.specialist = specialist\n",
        "\n",
        "    def describe(self):\n",
        "        print(f\"Doctor - Name: {self.name} - YoB: {self.yob} - Specialist: {self.specialist}\")\n",
        "\n",
        "class Teacher:\n",
        "    def __init__(self, name, yob, subject):\n",
        "        self.name = name\n",
        "        self.yob = yob\n",
        "        self.subject = subject\n",
        "\n",
        "    def describe(self):\n",
        "        print(f\"Teacher - Name: {self.name} - YoB: {self.yob} - Subject: {self.subject}\")\n",
        "\n",
        "# (a) testcases\n",
        "student1 = Student(name=\"studentA\", yob=2010, grade=\"7\")\n",
        "student1.describe()\n",
        "teacher1 = Teacher(name=\"teacherA\", yob=1969, subject=\"Math\")\n",
        "teacher1.describe()\n",
        "doctor1 = Doctor(name=\"doctorA\", yob=1945, specialist=\"Endocrinologists\")\n",
        "doctor1.describe()\n",
        "\n",
        "# (b) & (c) & (d) & (e)\n",
        "class Ward:\n",
        "    def __init__(self, name):\n",
        "        self.name = name\n",
        "        self.lst = []\n",
        "\n",
        "    def add_person(self, person):\n",
        "        self.lst.append(person)\n",
        "\n",
        "    def describe(self):\n",
        "        print(f\"Ward Name: {self.name}\")\n",
        "        for person in self.lst:\n",
        "            person.describe()\n",
        "\n",
        "    def count_doctor(self):\n",
        "        count = 0\n",
        "        for person in self.lst:\n",
        "            if (isinstance(person, Doctor)):\n",
        "                count += 1\n",
        "        return count\n",
        "\n",
        "    def sort_age(self):\n",
        "        self.lst.sort(key=lambda x: x.yob, reverse=True)\n",
        "\n",
        "    def compute_average(self):\n",
        "        count = sum(1 for person in self.lst if isinstance(person, Teacher))\n",
        "        total = sum(person.yob for person in self.lst if isinstance(person, Teacher))\n",
        "\n",
        "        return total / count\n",
        "\n",
        "# (b) testcases\n",
        "teacher2 = Teacher(name=\"teacherB\", yob=1995, subject=\"History\")\n",
        "doctor2 = Doctor(name=\"doctorB\", yob=1975, specialist=\"Cardiologists\")\n",
        "\n",
        "ward1 = Ward(name=\"Ward1\")\n",
        "ward1.add_person(student1)\n",
        "ward1.add_person(teacher1)\n",
        "ward1.add_person(teacher2)\n",
        "ward1.add_person(doctor1)\n",
        "ward1.add_person(doctor2)\n",
        "ward1.describe()\n",
        "\n",
        "# (c) testcases\n",
        "print(f\"\\nNumber of doctors: {ward1.count_doctor()}\")\n",
        "\n",
        "# (d) testcases\n",
        "print(\"\\nAfter sorting Age of Ward1 people\")\n",
        "ward1.sort_age()\n",
        "ward1.describe()\n",
        "\n",
        "# (e) testcases\n",
        "print(f\"\\nAverage year of birth (teachers): {ward1.compute_average()}\")\n",
        "\n"
      ],
      "metadata": {
        "id": "biu6QVaxU3Yb"
      },
      "execution_count": null,
      "outputs": []
    },
    {
      "cell_type": "code",
      "source": [
        "# (a)\n",
        "class Student:\n",
        "    def __init__(self, name, yob, grade):\n",
        "        self.name = name\n",
        "        self.yob = yob\n",
        "        self.grade = grade\n",
        "\n",
        "    def describe(self):\n",
        "        print(f\"Student - Name: {self.name} - YoB: {self.yob} - Grade: {self.grade}\")\n",
        "\n",
        "class Doctor:\n",
        "    def __init__(self, name, yob, specialist):\n",
        "        self.name = name\n",
        "        self.yob = yob\n",
        "        self.specialist = specialist\n",
        "\n",
        "    def describe(self):\n",
        "        print(f\"Doctor - Name: {self.name} - YoB: {self.yob} - Specialist: {self.specialist}\")\n",
        "\n",
        "class Teacher:\n",
        "    def __init__(self, name, yob, subject):\n",
        "        self.name = name\n",
        "        self.yob = yob\n",
        "        self.subject = subject\n",
        "\n",
        "    def describe(self):\n",
        "        print(f\"Teacher - Name: {self.name} - YoB: {self.yob} - Subject: {self.subject}\")\n",
        "\n",
        "# (a) testcases\n",
        "student1 = Student ( name =\" studentZ2023 \", yob =2011 , grade =\"6\")\n",
        "assert student1.yob == 2011\n",
        "student1.describe ()"
      ],
      "metadata": {
        "colab": {
          "base_uri": "https://localhost:8080/"
        },
        "id": "tGjR7Gt7VSYc",
        "outputId": "2d16a1e1-7d77-4144-84e1-5809dd6172e2"
      },
      "execution_count": null,
      "outputs": [
        {
          "output_type": "stream",
          "name": "stdout",
          "text": [
            "Student - Name:  studentZ2023  - YoB: 2011 - Grade: 6\n"
          ]
        }
      ]
    },
    {
      "cell_type": "code",
      "source": [],
      "metadata": {
        "id": "j20fDf_JVe4y"
      },
      "execution_count": null,
      "outputs": []
    }
  ]
}