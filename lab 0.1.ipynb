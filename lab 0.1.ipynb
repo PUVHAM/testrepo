{
 "cells": [
  {
   "cell_type": "code",
   "execution_count": 1,
   "id": "96a52803-dcb1-46ad-954a-39de7cd84d0a",
   "metadata": {},
   "outputs": [
    {
     "data": {
      "text/plain": [
       "2"
      ]
     },
     "execution_count": 1,
     "metadata": {},
     "output_type": "execute_result"
    }
   ],
   "source": [
    "1 + 1"
   ]
  },
  {
   "cell_type": "code",
   "execution_count": 3,
   "id": "a70afc33-b898-4f76-9d3d-cdd1b0bfac05",
   "metadata": {},
   "outputs": [
    {
     "data": {
      "text/plain": [
       "959648"
      ]
     },
     "execution_count": 3,
     "metadata": {},
     "output_type": "execute_result"
    }
   ],
   "source": [
    "912830 + 23409*2"
   ]
  },
  {
   "cell_type": "code",
   "execution_count": null,
   "id": "3c29aff9-0666-4fee-87ff-c5d43b3bf102",
   "metadata": {},
   "outputs": [],
   "source": []
  },
  {
   "cell_type": "markdown",
   "id": "a6cac5a7-01ef-4336-89fa-e6e587a7d27b",
   "metadata": {},
   "source": [
    "My Title"
   ]
  },
  {
   "cell_type": "markdown",
   "id": "b8c76556-ec4b-43d0-abee-319262079d15",
   "metadata": {},
   "source": [
    "# [Markdown](https://www.markdownguide.org/) practice"
   ]
  },
  {
   "cell_type": "markdown",
   "id": "048a7079-3112-444f-b74c-f17d4501a0fe",
   "metadata": {},
   "source": [
    "**Ngồi chơi xơi nước**  \n",
    "_Ahihi_"
   ]
  },
  {
   "cell_type": "markdown",
   "id": "f9589323-e2b7-41ae-9145-ac0dc2128836",
   "metadata": {},
   "source": [
    "1. Học Data Science\n",
    "2. Học Machine Learning\n",
    "3. Học Deep Learning"
   ]
  },
  {
   "cell_type": "markdown",
   "id": "a36a992e-dd89-4fe1-a6f3-c604c90b5d59",
   "metadata": {},
   "source": [
    "* Tăng kích thước\n",
    "* Tăng kinh nghiệm\n",
    "* Tăng lương"
   ]
  },
  {
   "cell_type": "markdown",
   "id": "c61d500b-0e13-4b64-a0cf-a0975a386f56",
   "metadata": {},
   "source": [
    "![AI](https://cdn11.dienmaycholon.vn/filewebdmclnew/public/userupload/files/news/di-dong/ai-la-gi-cong-dung-cua-ai.jpg)"
   ]
  },
  {
   "cell_type": "markdown",
   "id": "c40a0f96-f82b-4e96-911b-e3b16f9247d5",
   "metadata": {},
   "source": [
    "| STT | TG | TP |\n",
    "| --- | -- | -- |\n",
    "| 1   | Tô hoài | Dế mèn phiêu lưu ký |\n",
    "| 2   | Nguyễn Ngọc Ký | Tôi đi học |\n"
   ]
  },
  {
   "cell_type": "markdown",
   "id": "02f935c1-25c3-48c5-8230-7b7ede71b3e3",
   "metadata": {},
   "source": [
    "> \"Học cái tốt thì khó, ví như người ta leo núi, phải vất vả, khó nhọc mới lên đến đỉnh. Học cái xấu thì dễ, như ở trên đỉnh núi trượt chân một cái là nhào xuống vực sâu\" - Hồ Chí Minh"
   ]
  },
  {
   "cell_type": "code",
   "execution_count": null,
   "id": "a82d152d-6c6b-4f97-b843-b1a57874f2c2",
   "metadata": {},
   "outputs": [],
   "source": []
  }
 ],
 "metadata": {
  "kernelspec": {
   "display_name": "Python 3 (ipykernel)",
   "language": "python",
   "name": "python3"
  },
  "language_info": {
   "codemirror_mode": {
    "name": "ipython",
    "version": 3
   },
   "file_extension": ".py",
   "mimetype": "text/x-python",
   "name": "python",
   "nbconvert_exporter": "python",
   "pygments_lexer": "ipython3",
   "version": "3.11.7"
  }
 },
 "nbformat": 4,
 "nbformat_minor": 5
}
